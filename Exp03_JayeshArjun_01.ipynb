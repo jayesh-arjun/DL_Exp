{
  "nbformat": 4,
  "nbformat_minor": 0,
  "metadata": {
    "colab": {
      "provenance": []
    },
    "kernelspec": {
      "name": "python3",
      "display_name": "Python 3"
    },
    "language_info": {
      "name": "python"
    }
  },
  "cells": [
    {
      "cell_type": "code",
      "source": [
        "def nesterov_gradient_descent(gradient_func, initial_position,\n",
        "learning_rate=0.01, momentum=0.9, num_iterations=100):\n",
        "  position = initial_position\n",
        "  velocity = 0\n",
        "  for _ in range(num_iterations):\n",
        "    # Compute the gradient at the intermediate position\n",
        "    intermediate_position = position + momentum * velocity\n",
        "    gradient = gradient_func(intermediate_position)\n",
        "    # Update the velocity and position using the Nesterov update rule\n",
        "    velocity = momentum * velocity - learning_rate * gradient\n",
        "    position += velocity\n",
        "  return position"
      ],
      "metadata": {
        "id": "cT1CuFQX-VA_"
      },
      "execution_count": 6,
      "outputs": []
    },
    {
      "cell_type": "code",
      "source": [
        "def quadratic_function(x):\n",
        "  return 2 * x - 4 # Gradient of the function 2x^2 - 4x\n",
        "initial_position = 0 # Initial position of the optimization process\n",
        "final_position_nesterov = nesterov_gradient_descent(quadratic_function,\n",
        "initial_position)\n",
        "print(\"Optimal solution using Nesterov Gradient Descent:\",\n",
        "final_position_nesterov)"
      ],
      "metadata": {
        "colab": {
          "base_uri": "https://localhost:8080/",
          "height": 0
        },
        "id": "mIXQx19NBPRd",
        "outputId": "8e9f6c7a-e1a0-4cc8-8c28-6e1b0dff15e2"
      },
      "execution_count": 7,
      "outputs": [
        {
          "output_type": "stream",
          "name": "stdout",
          "text": [
            "Optimal solution using Nesterov Gradient Descent: 1.9960756416676375\n"
          ]
        }
      ]
    }
  ]
}